{
  "nbformat": 4,
  "nbformat_minor": 0,
  "metadata": {
    "colab": {
      "provenance": [],
      "authorship_tag": "ABX9TyN8zpEB0nlNg5xA4PHRUBzR",
      "include_colab_link": true
    },
    "kernelspec": {
      "name": "python3",
      "display_name": "Python 3"
    },
    "language_info": {
      "name": "python"
    }
  },
  "cells": [
    {
      "cell_type": "markdown",
      "metadata": {
        "id": "view-in-github",
        "colab_type": "text"
      },
      "source": [
        "<a href=\"https://colab.research.google.com/github/Saiviswanadh1/lab1/blob/main/lab1.ipynb\" target=\"_parent\"><img src=\"https://colab.research.google.com/assets/colab-badge.svg\" alt=\"Open In Colab\"/></a>"
      ]
    },
    {
      "cell_type": "code",
      "source": [
        "def calculate_weather(t, H, W):\n",
        "    w = 0.5 * t**2 - 0.2 * H + 0.1 * W - 15\n",
        "    return w\n",
        "\n",
        "# Hardcoded values\n",
        "t = 25  # Temperature (in °C)\n",
        "H = 70  # Humidity (in %)\n",
        "W = 10  # Wind speed (in km/h)\n",
        "\n",
        "w = calculate_weather(t, H, W)\n",
        "print(f\"Calculated weather value w: {w}\")\n"
      ],
      "metadata": {
        "colab": {
          "base_uri": "https://localhost:8080/"
        },
        "id": "rjPT8ZMbwOVJ",
        "outputId": "81ae9595-60e7-4c15-95a6-0cd44f762998"
      },
      "execution_count": null,
      "outputs": [
        {
          "output_type": "stream",
          "name": "stdout",
          "text": [
            "Calculated weather value w: 284.5\n"
          ]
        }
      ]
    },
    {
      "cell_type": "code",
      "source": [
        "def calculate_weather(t, H, W):\n",
        "    w = 0.5 * t**2 - 0.2 * H + 0.1 * W - 15\n",
        "    return w\n",
        "\n",
        "# Accepting input via keyboard\n",
        "t = float(input(\"Enter temperature (t in °C): \"))\n",
        "H = float(input(\"Enter humidity (H in %): \"))\n",
        "W = float(input(\"Enter wind speed (W in km/h): \"))\n",
        "\n",
        "w = calculate_weather(t, H, W)\n",
        "print(f\"Calculated weather value w: {w}\")\n"
      ],
      "metadata": {
        "colab": {
          "base_uri": "https://localhost:8080/"
        },
        "id": "xHb_qtrJw6sh",
        "outputId": "79fa2284-1b0c-4f2f-967e-229a0b731839"
      },
      "execution_count": null,
      "outputs": [
        {
          "output_type": "stream",
          "name": "stdout",
          "text": [
            "Enter temperature (t in °C): 30\n",
            "Enter humidity (H in %): 50\n",
            "Enter wind speed (W in km/h): 10\n",
            "Calculated weather value w: 426.0\n"
          ]
        }
      ]
    },
    {
      "cell_type": "code",
      "source": [
        "def calculate_weather(t, H, W):\n",
        "    w = 0.5 * t**2 - 0.2 * H + 0.1 * W - 15\n",
        "    return w\n",
        "\n",
        "try:\n",
        "    with open('inputs.txt', 'r') as file:\n",
        "        for line in file:\n",
        "            t, H, W = map(float, line.split())\n",
        "            w = calculate_weather(t, H, W)\n",
        "            print(f\"Calculated weather value w for t={t}, H={H}, W={W}: {w}\")\n",
        "except FileNotFoundError:\n",
        "    print(\"The file 'inputs.txt' was not found.\")\n"
      ],
      "metadata": {
        "colab": {
          "base_uri": "https://localhost:8080/"
        },
        "id": "RJUQ6rXexJUZ",
        "outputId": "21172f96-d18c-43d0-c829-d97e49f98f36"
      },
      "execution_count": null,
      "outputs": [
        {
          "output_type": "stream",
          "name": "stdout",
          "text": [
            "The file 'inputs.txt' was not found.\n"
          ]
        }
      ]
    },
    {
      "cell_type": "code",
      "source": [
        "def calculate_weather(t, H, W):\n",
        "    w = 0.5 * t**2 - 0.2 * H + 0.1 * W - 15\n",
        "    return w\n",
        "\n",
        "# Single set of inputs\n",
        "t = 25  # Temperature (in °C)\n",
        "H = 70  # Humidity (in %)\n",
        "W = 10  # Wind speed (in km/h)\n",
        "\n",
        "w = calculate_weather(t, H, W)\n",
        "print(f\"Calculated weather value w for t={t}, H={H}, W={W}: {w}\")\n"
      ],
      "metadata": {
        "colab": {
          "base_uri": "https://localhost:8080/"
        },
        "id": "LlfxUqCgxN4I",
        "outputId": "1783a0b3-c2fb-4de0-a1ab-18ce149e3330"
      },
      "execution_count": null,
      "outputs": [
        {
          "output_type": "stream",
          "name": "stdout",
          "text": [
            "Calculated weather value w for t=25, H=70, W=10: 284.5\n"
          ]
        }
      ]
    },
    {
      "cell_type": "code",
      "source": [
        "def calculate_weather(t, H, W):\n",
        "    w = 0.5 * t**2 - 0.2 * H + 0.1 * W - 15\n",
        "    return w\n",
        "\n",
        "# Processing multiple sets of inputs interactively\n",
        "while True:\n",
        "    user_input = input(\"Do you want to input another set of values (y/n)? \").strip().lower()\n",
        "    if user_input == 'n':\n",
        "        break\n",
        "    elif user_input == 'y':\n",
        "        t = float(input(\"Enter temperature (t in °C): \"))\n",
        "        H = float(input(\"Enter humidity (H in %): \"))\n",
        "        W = float(input(\"Enter wind speed (W in km/h): \"))\n",
        "        w = calculate_weather(t, H, W)\n",
        "        print(f\"Calculated weather value w for t={t}, H={H}, W={W}: {w}\")\n",
        "    else:\n",
        "        print(\"Invalid input. Please enter 'y' or 'n'.\")\n"
      ],
      "metadata": {
        "colab": {
          "base_uri": "https://localhost:8080/"
        },
        "id": "zjCoqMS1xQXw",
        "outputId": "e6b94e30-1e76-4f28-9b77-f5a2d41d8e91"
      },
      "execution_count": null,
      "outputs": [
        {
          "name": "stdout",
          "output_type": "stream",
          "text": [
            "Do you want to input another set of values (y/n)? y\n",
            "Enter temperature (t in °C): 25\n",
            "Enter humidity (H in %): 60\n",
            "Enter wind speed (W in km/h): 15\n",
            "Calculated weather value w for t=25.0, H=60.0, W=15.0: 287.0\n",
            "Do you want to input another set of values (y/n)? y\n",
            "Enter temperature (t in °C): 35\n",
            "Enter humidity (H in %): 40\n",
            "Enter wind speed (W in km/h): 20\n",
            "Calculated weather value w for t=35.0, H=40.0, W=20.0: 591.5\n",
            "Do you want to input another set of values (y/n)? n\n"
          ]
        }
      ]
    },
    {
      "cell_type": "code",
      "source": [
        "def calculate_weather(t, H, W):\n",
        "    # Calculate weather value using the given quadratic equation\n",
        "    w = 0.5 * t**2 - 0.2 * H + 0.1 * W - 15\n",
        "    return w\n",
        "\n",
        "# Test scenarios for prediction\n",
        "scenarios = [\n",
        "    {\"t\": 25, \"H\": 70, \"W\": 10},  # Scenario 1\n",
        "    {\"t\": 35, \"H\": 90, \"W\": 15},  # Scenario 2\n",
        "    {\"t\": 15, \"H\": 80, \"W\": 5},   # Scenario 3\n",
        "    {\"t\": 40, \"H\": 50, \"W\": 20},  # Scenario 4\n",
        "    {\"t\": 5, \"H\": 95, \"W\": 0}     # Scenario 5\n",
        "]\n",
        "\n",
        "# Process each scenario and predict the weather\n",
        "for scenario in scenarios:\n",
        "    t = scenario[\"t\"]\n",
        "    H = scenario[\"H\"]\n",
        "    W = scenario[\"W\"]\n",
        "\n",
        "    w = calculate_weather(t, H, W)\n",
        "    print(f\"Prediction for t={t}°C, H={H}%, W={W} km/h: w = {w}\")\n"
      ],
      "metadata": {
        "colab": {
          "base_uri": "https://localhost:8080/"
        },
        "id": "zD-KjTp0ypZH",
        "outputId": "549cde20-e937-4e4e-d6a4-9ba12f5a8a10"
      },
      "execution_count": null,
      "outputs": [
        {
          "output_type": "stream",
          "name": "stdout",
          "text": [
            "Prediction for t=25°C, H=70%, W=10 km/h: w = 284.5\n",
            "Prediction for t=35°C, H=90%, W=15 km/h: w = 581.0\n",
            "Prediction for t=15°C, H=80%, W=5 km/h: w = 82.0\n",
            "Prediction for t=40°C, H=50%, W=20 km/h: w = 777.0\n",
            "Prediction for t=5°C, H=95%, W=0 km/h: w = -21.5\n"
          ]
        }
      ]
    },
    {
      "cell_type": "code",
      "source": [
        "def calculate_weather(t, H, W):\n",
        "    # Calculate weather value using the given quadratic equation\n",
        "    w = 0.5 * t**2 - 0.2 * H + 0.1 * W - 15\n",
        "    return w\n",
        "\n",
        "def classify_weather(w):\n",
        "    # Classify the weather based on the value of 'w'\n",
        "    if w >= 200 and w <= 400:\n",
        "        return \"Sunny\"\n",
        "    elif w >= 100 and w < 200:\n",
        "        return \"Cloudy\"\n",
        "    elif w >= 0 and w < 100:\n",
        "        return \"Rainy\"\n",
        "    elif w < 0:\n",
        "        return \"Stormy\"\n",
        "    else:\n",
        "        return \"Unknown\"\n",
        "\n",
        "# Test scenarios for prediction\n",
        "scenarios = [\n",
        "    {\"t\": 25, \"H\": 70, \"W\": 10},  # Scenario 1\n",
        "    {\"t\": 35, \"H\": 90, \"W\": 15},  # Scenario 2\n",
        "    {\"t\": 15, \"H\": 80, \"W\": 5},   # Scenario 3\n",
        "    {\"t\": 40, \"H\": 50, \"W\": 20},  # Scenario 4\n",
        "    {\"t\": 5, \"H\": 95, \"W\": 0}     # Scenario 5\n",
        "]\n",
        "\n",
        "# Process each scenario and predict the weather\n",
        "for scenario in scenarios:\n",
        "    t = scenario[\"t\"]\n",
        "    H = scenario[\"H\"]\n",
        "    W = scenario[\"W\"]\n",
        "\n",
        "    w = calculate_weather(t, H, W)\n",
        "    weather_condition = classify_weather(w)\n",
        "\n",
        "    print(f\"Prediction for t={t}°C, H={H}%, W={W} km/h: w = {w}, Weather: {weather_condition}\")\n"
      ],
      "metadata": {
        "colab": {
          "base_uri": "https://localhost:8080/"
        },
        "id": "aiwWKUT6y9rH",
        "outputId": "9362e4ff-e167-4319-9529-d911e3efa196"
      },
      "execution_count": null,
      "outputs": [
        {
          "output_type": "stream",
          "name": "stdout",
          "text": [
            "Prediction for t=25°C, H=70%, W=10 km/h: w = 284.5, Weather: Sunny\n",
            "Prediction for t=35°C, H=90%, W=15 km/h: w = 581.0, Weather: Unknown\n",
            "Prediction for t=15°C, H=80%, W=5 km/h: w = 82.0, Weather: Rainy\n",
            "Prediction for t=40°C, H=50%, W=20 km/h: w = 777.0, Weather: Unknown\n",
            "Prediction for t=5°C, H=95%, W=0 km/h: w = -21.5, Weather: Stormy\n"
          ]
        }
      ]
    }
  ]
}