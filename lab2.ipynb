{
  "nbformat": 4,
  "nbformat_minor": 0,
  "metadata": {
    "colab": {
      "provenance": [],
      "authorship_tag": "ABX9TyMPYiyRld35T5rrgoI9/igX",
      "include_colab_link": true
    },
    "kernelspec": {
      "name": "python3",
      "display_name": "Python 3"
    },
    "language_info": {
      "name": "python"
    }
  },
  "cells": [
    {
      "cell_type": "markdown",
      "metadata": {
        "id": "view-in-github",
        "colab_type": "text"
      },
      "source": [
        "<a href=\"https://colab.research.google.com/github/Saiviswanadh1/lab1/blob/main/lab2.ipynb\" target=\"_parent\"><img src=\"https://colab.research.google.com/assets/colab-badge.svg\" alt=\"Open In Colab\"/></a>"
      ]
    },
    {
      "cell_type": "code",
      "source": [
        "def calculate_weather(t, h, w):\n",
        "    return 0.5 * t**2 - 0.2 * h + 0.1 * w - 15\n",
        "\n",
        "def predict_weather(weather):\n",
        "    if weather <= 100:\n",
        "        return \"Stormy\"\n",
        "    elif 100 < weather < 200:\n",
        "        return \"Mild\"\n",
        "    elif 200 <= weather < 250:\n",
        "        return \"Rainy\"\n",
        "    elif 250 <= weather < 300:\n",
        "        return \"Cloudy\"\n",
        "    else:\n",
        "        return \"Sunny\""
      ],
      "metadata": {
        "id": "C0lH0ANzIa4O"
      },
      "execution_count": 4,
      "outputs": []
    },
    {
      "cell_type": "code",
      "source": [
        "#hardcoded values\n",
        "def process_hardcoded_values():\n",
        "    print(\"\\nProcessing hardcoded values:\")\n",
        "    t = 30\n",
        "    h = 50\n",
        "    w = 10\n",
        "    weather = calculate_weather(t, h, w)\n",
        "    weather_type = predict_weather(weather)\n",
        "    print(f\"With hardcoded values (t={t}, h={h}, w={w}), Weather = {weather:.2f}, Prediction: {weather_type}\")"
      ],
      "metadata": {
        "id": "zIZvwSbXIcg1"
      },
      "execution_count": 5,
      "outputs": []
    },
    {
      "cell_type": "code",
      "source": [
        "#values from keyboard input\n",
        "def process_keyboard_input():\n",
        "    print(\"\\nProcessing values from keyboard input:\")\n",
        "    try:\n",
        "        # Validate temperature\n",
        "        t = float(input(\"Enter the temperature (t) in degrees Celsius: \"))\n",
        "        if t < -50 or t > 60:\n",
        "            raise ValueError(\"Temperature must be between -50°C and 60°C.\")\n",
        "\n",
        "        # Validate humidity\n",
        "        h = float(input(\"Enter the humidity (h) as a percentage: \"))\n",
        "        if h < 0 or h > 100:\n",
        "            raise ValueError(\"Humidity must be between 0% and 100%.\")\n",
        "\n",
        "        # Validate wind speed\n",
        "        w = float(input(\"Enter the wind speed (w) in km/h: \"))\n",
        "        if w < 0:\n",
        "            raise ValueError(\"Wind speed must be non-negative.\")\n",
        "\n",
        "        # Perform calculation and prediction\n",
        "        weather = calculate_weather(t, h, w)\n",
        "        weather_type = predict_weather(weather)\n",
        "        print(f\"With input values (t={t}, h={h}, w={w}), Weather = {weather:.2f}, Prediction: {weather_type}\")\n",
        "    except ValueError as e:\n",
        "        print(f\"Input Error: {e}\")"
      ],
      "metadata": {
        "id": "65TxaMlXIgi9"
      },
      "execution_count": 6,
      "outputs": []
    },
    {
      "cell_type": "code",
      "source": [
        "#inputs from a file\n",
        "def process_single_input_from_file(file_name):\n",
        "    print(\"\\nProcessing a single set of inputs from file:\")\n",
        "    try:\n",
        "        with open(file_name, \"r\") as file:\n",
        "            line = file.readline().strip()\n",
        "            t, h, w = map(float, line.split())\n",
        "        weather = calculate_weather(t, h, w)\n",
        "        weather_type = predict_weather(weather)\n",
        "        print(f\"With input values (t={t}, h={h}, w={w}), Weather = {weather:.2f}, Prediction: {weather_type}\")\n",
        "    except FileNotFoundError:\n",
        "        print(\"Error: File not found. Please ensure the file exists.\")\n",
        "    except ValueError:\n",
        "        print(\"Error: Invalid input format in the file.\")"
      ],
      "metadata": {
        "id": "-PnKIp8DIm0F"
      },
      "execution_count": 7,
      "outputs": []
    },
    {
      "cell_type": "code",
      "source": [
        "#multiple sets of inputs from a file\n",
        "def process_multiple_inputs_from_file(file_name):\n",
        "    print(\"\\nProcessing multiple sets of inputs from file:\")\n",
        "    try:\n",
        "        with open(file_name, \"r\") as file:\n",
        "            lines = file.readlines()\n",
        "\n",
        "        for i, line in enumerate(lines):\n",
        "            try:\n",
        "                t, h, w = map(float, line.strip().split())\n",
        "\n",
        "                # Validate values\n",
        "                if not (-50 <= t <= 60):\n",
        "                    raise ValueError(f\"Set {i + 1}: Temperature {t} is out of range (-50 to 60).\")\n",
        "                if not (0 <= h <= 100):\n",
        "                    raise ValueError(f\"Set {i + 1}: Humidity {h} is out of range (0 to 100).\")\n",
        "                if w < 0:\n",
        "                    raise ValueError(f\"Set {i + 1}: Wind speed {w} cannot be negative.\")\n",
        "\n",
        "                # Process valid input\n",
        "                weather = calculate_weather(t, h, w)\n",
        "                weather_type = predict_weather(weather)\n",
        "                print(f\"Set {i + 1}: With input values (t={t}, h={h}, w={w}), Weather = {weather:.2f}, Prediction: {weather_type}\")\n",
        "            except ValueError as e:\n",
        "                print(e)\n",
        "    except FileNotFoundError:\n",
        "        print(\"Error: File not found. Please ensure the file exists.\")\n",
        "    except ValueError:\n",
        "        print(\"Error: Invalid input format in the file.\")"
      ],
      "metadata": {
        "id": "Z54vwOVyIqRG"
      },
      "execution_count": 8,
      "outputs": []
    },
    {
      "cell_type": "code",
      "source": [
        "def validate_temperature(t):\n",
        "    if t < -50 or t > 60:\n",
        "        raise ValueError(\"Temperature must be between -50°C and 60°C.\")\n",
        "    return t\n",
        "\n",
        "def validate_humidity(h):\n",
        "    if h < 0 or h > 100:\n",
        "        raise ValueError(\"Humidity must be between 0% and 100%.\")\n",
        "    return h\n",
        "\n",
        "def validate_wind_speed(w):\n",
        "    if w < 0:\n",
        "        raise ValueError(\"Wind speed must be non-negative.\")\n",
        "    return w"
      ],
      "metadata": {
        "id": "M--YW3CoIuwO"
      },
      "execution_count": 9,
      "outputs": []
    },
    {
      "cell_type": "code",
      "source": [
        "def main():\n",
        "    print(\"Weather Modeling using the formula: w = 0.5t^2 - 0.2h + 0.1w - 15\")\n",
        "    print(\"Choose an option:\")\n",
        "    print(\"1. Process hardcoded values.\")\n",
        "    print(\"2. Process values from keyboard input.\")\n",
        "    print(\"3. Process a single set of inputs from a file.\")\n",
        "    print(\"4. Process multiple sets of inputs from a file.\")\n",
        "    choice = input(\"Enter your choice (1, 2, 3, or 4): \")\n",
        "    if choice == \"1\":\n",
        "        process_hardcoded_values()\n",
        "    elif choice == \"2\":\n",
        "        process_keyboard_input()\n",
        "    elif choice == \"3\":\n",
        "        file_name = input(\"Enter the file name (e.g., 'values.txt'): \")\n",
        "        process_single_input_from_file(file_name)\n",
        "    elif choice == \"4\":\n",
        "        file_name = input(\"Enter the file name (e.g., 'values.txt'): \")\n",
        "        process_multiple_inputs_from_file(file_name)\n",
        "    else:\n",
        "        print(\"Invalid choice. Please enter 1, 2, 3, or 4.\")\n",
        "if __name__ == \"__main__\":\n",
        "    main()"
      ],
      "metadata": {
        "colab": {
          "base_uri": "https://localhost:8080/"
        },
        "id": "4yFcQhkYIx8e",
        "outputId": "c75176ad-03f2-496f-c320-db3a094c6884"
      },
      "execution_count": 12,
      "outputs": [
        {
          "output_type": "stream",
          "name": "stdout",
          "text": [
            "Weather Modeling using the formula: w = 0.5t^2 - 0.2h + 0.1w - 15\n",
            "Choose an option:\n",
            "1. Process hardcoded values.\n",
            "2. Process values from keyboard input.\n",
            "3. Process a single set of inputs from a file.\n",
            "4. Process multiple sets of inputs from a file.\n",
            "Enter your choice (1, 2, 3, or 4): 2\n",
            "\n",
            "Processing values from keyboard input:\n",
            "Enter the temperature (t) in degrees Celsius: 45\n",
            "Enter the humidity (h) as a percentage: 5\n",
            "Enter the wind speed (w) in km/h: 56\n",
            "With input values (t=45.0, h=5.0, w=56.0), Weather = 1002.10, Prediction: Sunny\n"
          ]
        }
      ]
    }
  ]
}